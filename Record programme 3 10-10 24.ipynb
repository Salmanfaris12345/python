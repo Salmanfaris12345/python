
{
 "cells": [
  {
   "cell_type": "code",
   "execution_count": 2,
   "metadata": {},
   "outputs": [
    {
     "name": "stdout",
     "output_type": "stream",
     "text": [
      "Enter a string:salman\n",
      "New string is:nalmas\n"
     ]
    }
   ],
   "source": [
    "#swap first&last character of a string\n",
    "string=input(\"Enter a string:\")\n",
    "\n",
    "if len(string)<2:\n",
    "       print(\"The string is too short to swap character\")\n",
    "new_string=string[-1]+string[1:-1]+string[0]\n",
    "print(f\"New string is:{new_string}\")"
   ]
  },
  {
   "cell_type": "code",
   "execution_count": 5,
   "metadata": {},
   "outputs": [
    {
     "name": "stdout",
     "output_type": "stream",
     "text": [
      "Enter the first string: salman\n",
      "Enter the second string: faris\n",
      "New combined string is: falman saris\n"
     ]
    }
   ],
   "source": [
    "#combined two strings and swap their first two characters\n",
    "string1 = input(\"Enter the first string: \")\n",
    "string2 = input(\"Enter the second string: \")\n",
    "\n",
    "if len(string1) < 2 or len(string2) < 2:\n",
    "    print(\"Both strings need to have at least 2 characters.\")\n",
    "else:\n",
    "    new_string1 = string2[:2] + string1[2:]\n",
    "    new_string2 = string1[:2] + string2[2:]\n",
    "\n",
    "    combined_string = new_string1 + \" \" + new_string2\n",
    "    print(f\"New combined string is: {combined_string}\")\n"
   ]
  },
  {
   "cell_type": "code",
   "execution_count": 12,
   "metadata": {},
   "outputs": [
    {
     "name": "stdout",
     "output_type": "stream",
     "text": [
      "Enter a string: bubble\n",
      "Modified string is: bu$$le\n"
     ]
    }
   ],
   "source": [
    "#replace occurence of 1st char with$, accept the first one\n",
    "string = input(\"Enter a string: \")\n",
    "if len(string) == 0:\n",
    "    print(\"Empty string provided\")\n",
    "else:\n",
    "    fchar = string[0]\n",
    "    nstring = fchar + string[1:].replace(fchar, '$')\n",
    "    print(f\"Modified string is: {nstring}\")\n",
    "\n",
    "    "
   ]
  },
  {
   "cell_type": "code",
   "execution_count": 16,
   "metadata": {},
   "outputs": [
    {
     "name": "stdout",
     "output_type": "stream",
     "text": [
      "Enter colors: red,blue,orange,green\n",
      "First color is: red\n",
      "Last color is: green\n"
     ]
    }
   ],
   "source": [
    "#display first and last color in a list\n",
    "colors = input(\"Enter colors: \")\n",
    "clist = colors.split(\",\")\n",
    "clist = [color.strip() for color in clist]\n",
    "\n",
    "if len(clist) > 0:\n",
    "    print(f\"First color is: {clist[0]}\")\n",
    "    print(f\"Last color is: {clist[-1]}\")\n",
    "else:\n",
    "    print(\"No colors were entered\")\n"
   ]
  },
  {
   "cell_type": "code",
   "execution_count": 17,
   "metadata": {},
   "outputs": [
    {
     "name": "stdout",
     "output_type": "stream",
     "text": [
      "Enter the filename:salman.txt\n",
      "File extension is txt\n"
     ]
    }
   ],
   "source": [
    "#get the filename extension from a filename\n",
    "fname = input(\"Enter the filename:\")\n",
    "\n",
    "parts = fname.split(\".\")\n",
    "\n",
    "if len(parts)>1:\n",
    "    extension = parts[-1]\n",
    "    print(f\"File extension is {extension}\")\n",
    "else:\n",
    "    print(\"Filename does not have an extension\")"
   ]
  },
  {
   "cell_type": "code",
   "execution_count": 22,
   "metadata": {},
   "outputs": [
    {
     "name": "stdout",
     "output_type": "stream",
     "text": [
      "3rd element is: 30\n",
      "3rd element from the last is: 50\n"
     ]
    }
   ],
   "source": [
    "#get 3rd element & 3rd element from last of a tuple\n",
    "sample_tuple = (10,20,30,40,50,60,70)\n",
    "\n",
    "if len(sample_tuple) < 3:\n",
    "    print(\"Tuple must have at least 3 elements\")\n",
    "else:\n",
    "    third_element = sample_tuple[2]\n",
    "    \n",
    "    third_from_last = sample_tuple[-3]\n",
    "    \n",
    "    print(f\"3rd element is: {third_element}\")\n",
    "    print(f\"3rd element from the last is: {third_from_last}\")\n",
    "          "
   ]
  },
  {
   "cell_type": "code",
   "execution_count": 23,
   "metadata": {},
   "outputs": [
    {
     "name": "stdout",
     "output_type": "stream",
     "text": [
      "Colors in color_set1 that are not in color_set2:\n",
      "green\n",
      "red\n"
     ]
    }
   ],
   "source": [
    "#print colors from set1 not in set2\n",
    "color_set1 = {\"red\",\"blue\",\"green\",\"yellow\"}\n",
    "color_set2 = {\"blue\",\"black\",\"orange\",\"yellow\"}\n",
    "\n",
    "unique_colors = color_set1.difference(color_set2)\n",
    "\n",
    "print(\"Colors in color_set1 that are not in color_set2:\")\n",
    "for color in unique_colors:\n",
    "    print(color)"
   ]
  },
  {
   "cell_type": "code",
   "execution_count": 25,
   "metadata": {},
   "outputs": [
    {
     "name": "stdout",
     "output_type": "stream",
     "text": [
      "Enter the name of the student 1:Alice\n",
      "Enter the name of the student 2:Bob\n",
      "Enter the name of the student 3:Charlie\n",
      "Enter the name of the student 4:David\n",
      "Enter the name of the student 5:Eve\n",
      "\n",
      "Students name in ascending order:\n",
      "Student 1 :Alice\n",
      "Student 2 :Bob\n",
      "Student 3 :Charlie\n",
      "Student 4 :David\n",
      "Student 5 :Eve\n",
      "\n",
      "Students name in descending order:\n",
      "Student 5 :Eve\n",
      "Student 4 :David\n",
      "Student 3 :Charlie\n",
      "Student 2 :Bob\n",
      "Student 1 :Alice\n"
     ]
    }
   ],
   "source": [
    "#sort a dictionary in ascending & descending order\n",
    "student_dict = {}\n",
    "\n",
    "for i in range(1,6):\n",
    "    name = input(f\"Enter the name of the student {i}:\")\n",
    "    student_dict[i] = name\n",
    "    \n",
    "ascending_order = dict(sorted(student_dict.items(), key=lambda item: item[1]))\n",
    "print(\"\\nStudents name in ascending order:\")\n",
    "for key, value in ascending_order.items():\n",
    "    print(f\"Student {key} :{value}\")\n",
    "    \n",
    "descending_order = dict(sorted(student_dict.items(), key=lambda item: item[1], reverse=True))\n",
    "print(\"\\nStudents name in descending order:\")\n",
    "for key, value in descending_order.items():\n",
    "    print(f\"Student {key} :{value}\")\n",
    "    "
   ]
  },
  {
   "cell_type": "code",
   "execution_count": 26,
   "metadata": {},
   "outputs": [
    {
     "name": "stdout",
     "output_type": "stream",
     "text": [
      "Merged Dictionary:\n",
      "Student 1: Alice\n",
      "Student 2: Bob\n",
      "Student 3: Charlie\n",
      "Student 4: David\n",
      "Student 5: Eve\n"
     ]
    }
   ],
   "source": [
    "#merge 2 dictionaries\n",
    "dic1 = {1:\"Alice\", 2:\"Bob\", 3:\"Charlie\"}\n",
    "dic2 = {4:\"David\", 5:\"Eve\"}\n",
    "\n",
    "merged_dic = {**dic1, **dic2}\n",
    "\n",
    "print(\"Merged Dictionary:\")\n",
    "for key, value in merged_dic.items():\n",
    "    print(f\"Student {key}: {value}\")"
   ]
  },
  {
   "cell_type": "code",
   "execution_count": 28,
   "metadata": {},
   "outputs": [
    {
     "name": "stdout",
     "output_type": "stream",
     "text": [
      "Even numbers from 1 to 25: [2, 4, 6, 8, 10, 12, 14, 16, 18, 20, 22, 24]\n",
      "Sum of Even numbers: 156\n"
     ]
    }
   ],
   "source": [
    "#print even no.s & calculate their sum\n",
    "e_num = list(range(2,26,2))\n",
    "\n",
    "print(\"Even numbers from 1 to 25:\",e_num)\n",
    "\n",
    "total_sum = sum(e_num)\n",
    "\n",
    "print(\"Sum of Even numbers:\", total_sum)\n",
    "\n"
   ]
  },
  {
   "cell_type": "code",
   "execution_count": null,
   "metadata": {},
   "outputs": [],
   "source": []
  }
 ],
 "metadata": {
  "kernelspec": {
   "display_name": "Python 3",
   "language": "python",
   "name": "python3"
  },
  "language_info": {
   "codemirror_mode": {
    "name": "ipython",
    "version": 3
   },
   "file_extension": ".py",
   "mimetype": "text/x-python",
   "name": "python",
   "nbconvert_exporter": "python",
   "pygments_lexer": "ipython3",
   "version": "3.6.9"
  }
 },
 "nbformat": 4,
 "nbformat_minor": 2
}
